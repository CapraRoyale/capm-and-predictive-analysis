{
 "metadata": {
  "language_info": {
   "codemirror_mode": {
    "name": "ipython",
    "version": 3
   },
   "file_extension": ".py",
   "mimetype": "text/x-python",
   "name": "python",
   "nbconvert_exporter": "python",
   "pygments_lexer": "ipython3",
   "version": "3.8.5-final"
  },
  "orig_nbformat": 2,
  "kernelspec": {
   "name": "Python 3.8.5 64-bit ('UWFinTech': conda)",
   "display_name": "Python 3.8.5 64-bit ('UWFinTech': conda)",
   "metadata": {
    "interpreter": {
     "hash": "9fd44a851b9145035dd80132b24dd6363586216d2fdf1d8f45d933d6f3baeb2e"
    }
   }
  }
 },
 "nbformat": 4,
 "nbformat_minor": 2,
 "cells": [
  {
   "source": [
    "# Calculate Alpha, Beta and CAPM"
   ],
   "cell_type": "markdown",
   "metadata": {}
  },
  {
   "source": [
    "# import libraries\n",
    "\n",
    "import pandas as pd\n",
    "import pandas_datareader as web\n",
    "import hvplot.pandas\n",
    "from pathlib import Path\n",
    "%matplotlib inline\n"
   ],
   "cell_type": "code",
   "metadata": {},
   "execution_count": null,
   "outputs": []
  },
  {
   "cell_type": "code",
   "execution_count": null,
   "metadata": {},
   "outputs": [],
   "source": [
    "# intitialize variables\n",
    "\n",
    "index_stocks = ['AGG', 'SPY', \"QQQ\"]\n",
    "picked_stocks = ['T', 'GOOG', 'BA']\n",
    "random_stocks = ['GAIA', 'FMS', 'RC']\n",
    "\n",
    "start = pd.to_datetime('2015-01-01')\n",
    "end = pd.to_datetime('2019-12-31')\n"
   ]
  },
  {
   "cell_type": "code",
   "execution_count": null,
   "metadata": {},
   "outputs": [],
   "source": [
    "# import closing stock ticker data from \n",
    "index_stock_data = web.DataReader(index_stocks, 'yahoo', start, end)\n",
    "\n",
    "picked_stock_data = web.DataReader(picked_stocks, 'yahoo', start, end)\n",
    "\n",
    "random_stock_data = web.DataReader(random_stocks, 'yahoo', start, end)\n"
   ]
  },
  {
   "cell_type": "code",
   "execution_count": null,
   "metadata": {},
   "outputs": [],
   "source": [
    "# shape dataframe\n",
    "\n",
    "index_closing = index_stock_data[\"Close\"]\n",
    "\n",
    "picked_closing = picked_stock_data[\"Close\"]\n",
    "\n",
    "random_closing = random_stock_data[\"Close\"]\n"
   ]
  },
  {
   "cell_type": "code",
   "execution_count": null,
   "metadata": {},
   "outputs": [],
   "source": [
    "# calculate daily change and drop the resulting first null row\n",
    "\n",
    "index_daily_change = index_closing.pct_change().dropna()\n",
    "\n",
    "picked_daily_change = picked_closing.pct_change().dropna()\n",
    "\n",
    "random_daily_change = random_closing.pct_change().dropna()\n"
   ]
  },
  {
   "cell_type": "code",
   "execution_count": null,
   "metadata": {},
   "outputs": [],
   "source": [
    "# concatenate our dataframes to generate on\n",
    "\n",
    "combined_stocks = picked_stocks + random_stocks\n",
    "\n",
    "combined_closing = pd.concat([index_closing, picked_closing, random_closing], axis=1, join=\"inner\")\n",
    "\n",
    "combined_stocks_change = pd.concat([picked_daily_change, random_daily_change], axis=1, join=\"inner\")\n",
    "\n",
    "# combined_stocks_change.hvplot.line(title=f\"{data_frame}\")\n"
   ]
  },
  {
   "cell_type": "code",
   "execution_count": null,
   "metadata": {},
   "outputs": [],
   "source": [
    "# Create a variance, covariance and beta function\n",
    "\n",
    "def var_cov_beta(stock_df, index_df):\n",
    "    \"\"\"Calculate the beta of a given stock against a given index\"\"\"\n",
    "\n",
    "    variance = stock_df.var()\n",
    "    covariance = stock_df.cov(index_df)\n",
    "    beta = covariance / variance\n",
    "\n",
    "    return print(f\"{stock_df.name} has a beta of {beta} when measured against the {index_df.name} index.\")\n",
    "\n",
    "\n",
    "\n",
    "# Create a rolling beta dataframe\n",
    "def var_cov_beta_rolling(stock_df, index_df, window):\n",
    "    \"\"\"Requires a window parameter (integer in days) and Calculate a rolling beta for a given stock and a given index.\"\"\"\n",
    "\n",
    "    rolling_variance = stock_df.rolling(window=window).var()\n",
    "    rolling_covariance = stock_df.rolling(window=window).cov(index_df)\n",
    "    beta = covariance / variance\n",
    "\n",
    "    rolling_beta = rolling_covariance / rolling_variance\n",
    "\n",
    "    # Plot rolling beta in hvplot\n",
    "    return rolling_beta.hvplot(figsize=(20, 10), title=f'Rolling {window}-Day Beta of {stock_df.name} and index {index_df.name}')\n",
    "    "
   ]
  },
  {
   "cell_type": "code",
   "execution_count": null,
   "metadata": {},
   "outputs": [],
   "source": [
    "# var_cov_beta(picked_daily_change['T'], index_daily_change['AGG'])\n",
    "\n",
    "# var_cov_beta(picked_daily_change['GOOG'], index_daily_change['SPY'])\n",
    "\n",
    "var_cov_beta_rolling(picked_daily_change['GOOG'], index_daily_change['SPY'], 30)\n"
   ]
  },
  {
   "cell_type": "code",
   "execution_count": null,
   "metadata": {},
   "outputs": [],
   "source": [
    "# create covariance for each picked stock and each index fund with a nested forLoop\n",
    "\n",
    "# appended_rolling_covariance = pd.DataFrame()\n",
    "\n",
    "for x in range(0, len(combined_stocks)):\n",
    "\n",
    "    cov_var = combined_stocks[x]\n",
    "\n",
    "    variance = combined_stocks_change[cov_var].var()\n",
    "\n",
    "    # print(f\"\\nThe variance of {cov_var} is: {variance}\")\n",
    "    \n",
    "    for y in range(0, len(index_stocks)):\n",
    "\n",
    "        cov_var2 = index_stocks[y]\n",
    "\n",
    "        covariance = combined_stocks_change[cov_var].cov(index_daily_change[cov_var2])\n",
    "\n",
    "        # print(f\"The covariance between {cov_var} and {cov_var2} is: {covariance}\")\n",
    "\n",
    "        # print(f\"The Beta of {cov_var} and {cov_var2} is {covariance / variance}\")\n",
    "\n",
    "\n",
    "    rolling_covariance = combined_stocks_change[cov_var].rolling(window=180).cov(index_daily_change[cov_var2])\n",
    "\n",
    "    # appended_rolling_covariance.append(rolling_covariance, ignore_index=True)\n",
    "\n",
    "\n",
    "# appended_rolling_covariance.head()\n"
   ]
  },
  {
   "cell_type": "code",
   "execution_count": null,
   "metadata": {},
   "outputs": [],
   "source": [
    "# create covariance for each picked stock and one chosen index fund with a nested forLoop\n",
    "\n",
    "for x in range(0, len(combined_stocks)):\n",
    "\n",
    "    cov_var = combined_stocks[x]\n",
    "\n",
    "    variance = combined_stocks_change[cov_var].var()\n",
    "\n",
    "    print(f\"\\nThe variance of {cov_var} is: {variance}\")\n",
    "\n",
    "    cov_var2 = index_stocks[0]\n",
    "\n",
    "    covariance = combined_stocks_change[cov_var].cov(index_daily_change[cov_var2])\n",
    "\n",
    "    print(f\"The covariance between {cov_var} and {cov_var2} is: {covariance}\")\n",
    "\n",
    "    print(f\"The Beta of {cov_var} and {cov_var2} is {covariance / variance}\")\n",
    "    "
   ]
  },
  {
   "cell_type": "code",
   "execution_count": null,
   "metadata": {},
   "outputs": [],
   "source": []
  }
 ]
}