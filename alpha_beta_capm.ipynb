{
 "metadata": {
  "language_info": {
   "codemirror_mode": {
    "name": "ipython",
    "version": 3
   },
   "file_extension": ".py",
   "mimetype": "text/x-python",
   "name": "python",
   "nbconvert_exporter": "python",
   "pygments_lexer": "ipython3",
   "version": "3.8.5-final"
  },
  "orig_nbformat": 2,
  "kernelspec": {
   "name": "Python 3.8.5 64-bit ('UWFinTech': conda)",
   "display_name": "Python 3.8.5 64-bit ('UWFinTech': conda)",
   "metadata": {
    "interpreter": {
     "hash": "9fd44a851b9145035dd80132b24dd6363586216d2fdf1d8f45d933d6f3baeb2e"
    }
   }
  }
 },
 "nbformat": 4,
 "nbformat_minor": 2,
 "cells": [
  {
   "source": [
    "# Calculate Alpha, Beta and CAPM"
   ],
   "cell_type": "markdown",
   "metadata": {}
  },
  {
   "source": [
    "# import libraries\n",
    "\n",
    "import pandas as pd\n",
    "import pandas_datareader as web\n",
    "from pathlib import Path\n",
    "%matplotlib inline"
   ],
   "cell_type": "code",
   "metadata": {},
   "execution_count": 71,
   "outputs": []
  },
  {
   "cell_type": "code",
   "execution_count": 72,
   "metadata": {},
   "outputs": [],
   "source": [
    "# intitialize variables\n",
    "\n",
    "index_stocks = ['AGG', 'SPY', \"QQQ\"]\n",
    "picked_stocks = ['T', 'GOOG', 'BA']\n",
    "random_stocks = ['GAIA', 'FMS', 'RC']\n",
    "\n",
    "start = pd.to_datetime('2015-01-01')\n",
    "end = pd.to_datetime('2019-12-31')"
   ]
  },
  {
   "cell_type": "code",
   "execution_count": 73,
   "metadata": {},
   "outputs": [],
   "source": [
    "# import closing stock ticker data from \n",
    "index_stock_data = web.DataReader(index_stocks, 'yahoo', start, end)\n",
    "\n",
    "picked_stock_data = web.DataReader(picked_stocks, 'yahoo', start, end)\n",
    "\n",
    "random_stock_data = web.DataReader(random_stocks, 'yahoo', start, end)"
   ]
  },
  {
   "cell_type": "code",
   "execution_count": 74,
   "metadata": {},
   "outputs": [],
   "source": [
    "# shape dataframe\n",
    "\n",
    "index_closing = index_stock_data[\"Close\"]\n",
    "\n",
    "picked_closing = picked_stock_data[\"Close\"]\n",
    "\n",
    "random_closing = random_stock_data[\"Close\"]"
   ]
  },
  {
   "cell_type": "code",
   "execution_count": 75,
   "metadata": {},
   "outputs": [],
   "source": [
    "# calculate daily change and drop the resulting first null row\n",
    "\n",
    "index_daily_change = index_closing.pct_change().dropna()\n",
    "\n",
    "picked_daily_change = picked_closing.pct_change().dropna()\n",
    "\n",
    "random_daily_change = random_closing.pct_change().dropna()"
   ]
  },
  {
   "cell_type": "code",
   "execution_count": 76,
   "metadata": {},
   "outputs": [],
   "source": [
    "# "
   ]
  },
  {
   "cell_type": "code",
   "execution_count": 96,
   "metadata": {},
   "outputs": [],
   "source": [
    "# concatenate our dataframes to generate on\n",
    "\n",
    "combined_stocks = picked_stocks + random_stocks\n",
    "\n",
    "combined_stocks_change = pd.concat([picked_daily_change, random_daily_change], axis=1, join=\"inner\")"
   ]
  },
  {
   "cell_type": "code",
   "execution_count": 121,
   "metadata": {},
   "outputs": [
    {
     "output_type": "stream",
     "name": "stdout",
     "text": [
      "\nThe variance of T is: 0.00013423055259945935\nThe covariance between T and AGG is: -1.2311334809385346e-06\nThe Beta of T and AGG is -0.009171782854922803\nThe covariance between T and SPY is: 4.513644284548748e-05\nThe Beta of T and SPY is 0.3362605753413942\nThe covariance between T and QQQ is: 4.3027349143060864e-05\nThe Beta of T and QQQ is 0.32054810406281653\n\nThe variance of GOOG is: 0.0002286640139001807\nThe covariance between GOOG and AGG is: -2.671738340771514e-06\nThe Beta of GOOG and AGG is -0.011684122460728844\nThe covariance between GOOG and SPY is: 8.574828920344317e-05\nThe Beta of GOOG and SPY is 0.3749968687284353\nThe covariance between GOOG and QQQ is: 0.00012711082060126524\nThe Beta of GOOG and QQQ is 0.555884673032781\n\nThe variance of BA is: 0.00025420949708515833\nThe covariance between BA and AGG is: -5.0610384122835006e-06\nThe Beta of BA and AGG is -0.019908927362332532\nThe covariance between BA and SPY is: 8.17274173691788e-05\nThe Beta of BA and SPY is 0.32149631821898733\nThe covariance between BA and QQQ is: 9.301118313189232e-05\nThe Beta of BA and QQQ is 0.3658839822995844\n\nThe variance of GAIA is: 0.000712609001290416\nThe covariance between GAIA and AGG is: -4.2794036639009605e-06\nThe Beta of GAIA and AGG is -0.0060052618703267495\nThe covariance between GAIA and SPY is: 4.961165650187053e-05\nThe Beta of GAIA and SPY is 0.06961974436476678\nThe covariance between GAIA and QQQ is: 6.437577515573048e-05\nThe Beta of GAIA and QQQ is 0.09033814481596035\n\nThe variance of FMS is: 0.00023579902935942496\nThe covariance between FMS and AGG is: -2.1479711315464726e-06\nThe Beta of FMS and AGG is -0.009109329827954262\nThe covariance between FMS and SPY is: 6.456199529791179e-05\nThe Beta of FMS and SPY is 0.2738009374902935\nThe covariance between FMS and QQQ is: 7.715820784223318e-05\nThe Beta of FMS and QQQ is 0.32722020973471466\n\nThe variance of RC is: 0.00014513442246078014\nThe covariance between RC and AGG is: -4.800043843184079e-07\nThe Beta of RC and AGG is -0.0033073090186314697\nThe covariance between RC and SPY is: 3.079587864959246e-05\nThe Beta of RC and SPY is 0.2121886601913097\nThe covariance between RC and QQQ is: 3.363653995189727e-05\nThe Beta of RC and QQQ is 0.23176128296501758\n"
     ]
    }
   ],
   "source": [
    "# create covariance for each picked stock and each index fund with a nested forLoop\n",
    "\n",
    "for x in range(0, len(combined_stocks)):\n",
    "\n",
    "    cov_var = combined_stocks[x]\n",
    "\n",
    "    variance = combined_stocks_change[cov_var].var()\n",
    "\n",
    "    print(f\"\\nThe variance of {cov_var} is: {variance}\")\n",
    "    \n",
    "    for y in range(0, len(index_stocks)):\n",
    "\n",
    "        cov_var2 = index_stocks[y]\n",
    "\n",
    "        covariance = combined_stocks_change[cov_var].cov(index_daily_change[cov_var2])\n",
    "\n",
    "        print(f\"The covariance between {cov_var} and {cov_var2} is: {covariance}\")\n",
    "\n",
    "        print(f\"The Beta of {cov_var} and {cov_var2} is {covariance / variance}\")\n",
    "\n",
    "    # appened_rolling_covariance = pd.DataFrame\n",
    "\n",
    "    # rolling_covariance = combined_stocks_change[cov_var].rolling(window=30).cov(index_daily_change[cov_var2])"
   ]
  },
  {
   "cell_type": "code",
   "execution_count": 117,
   "metadata": {},
   "outputs": [
    {
     "output_type": "stream",
     "name": "stdout",
     "text": [
      "\nThe variance of T is: 0.00013423055259945935\nThe covariance between T and AGG is: -1.2311334809385346e-06\nThe Beta of T and AGG is -0.009171782854922803\n\nThe variance of GOOG is: 0.0002286640139001807\nThe covariance between GOOG and AGG is: -2.671738340771514e-06\nThe Beta of GOOG and AGG is -0.011684122460728844\n\nThe variance of BA is: 0.00025420949708515833\nThe covariance between BA and AGG is: -5.0610384122835006e-06\nThe Beta of BA and AGG is -0.019908927362332532\n\nThe variance of GAIA is: 0.000712609001290416\nThe covariance between GAIA and AGG is: -4.2794036639009605e-06\nThe Beta of GAIA and AGG is -0.0060052618703267495\n\nThe variance of FMS is: 0.00023579902935942496\nThe covariance between FMS and AGG is: -2.1479711315464726e-06\nThe Beta of FMS and AGG is -0.009109329827954262\n\nThe variance of RC is: 0.00014513442246078014\nThe covariance between RC and AGG is: -4.800043843184079e-07\nThe Beta of RC and AGG is -0.0033073090186314697\n"
     ]
    }
   ],
   "source": [
    "# create covariance for each picked stock and one chosen index fund with a nested forLoop\n",
    "\n",
    "for x in range(0, len(combined_stocks)):\n",
    "\n",
    "    cov_var = combined_stocks[x]\n",
    "\n",
    "    variance = combined_stocks_change[cov_var].var()\n",
    "\n",
    "    print(f\"\\nThe variance of {cov_var} is: {variance}\")\n",
    "\n",
    "    cov_var2 = index_stocks[0]\n",
    "\n",
    "    covariance = combined_stocks_change[cov_var].cov(index_daily_change[cov_var2])\n",
    "\n",
    "    print(f\"The covariance between {cov_var} and {cov_var2} is: {covariance}\")\n",
    "\n",
    "    print(f\"The Beta of {cov_var} and {cov_var2} is {covariance / variance}\")"
   ]
  },
  {
   "cell_type": "code",
   "execution_count": null,
   "metadata": {},
   "outputs": [],
   "source": []
  }
 ]
}