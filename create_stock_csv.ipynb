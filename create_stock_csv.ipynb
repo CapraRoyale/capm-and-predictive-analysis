{
 "cells": [
  {
   "cell_type": "code",
   "execution_count": 5,
   "metadata": {},
   "outputs": [],
   "source": [
    "import os\n",
    "import pandas as pd\n",
    "import alpaca_trade_api as tradeapi\n",
    "from dotenv import load_dotenv"
   ]
  },
  {
   "cell_type": "code",
   "execution_count": 6,
   "metadata": {},
   "outputs": [],
   "source": [
    "load_dotenv(\"./.env\")\n",
    "\n",
    "alpaca_api_key = os.getenv(\"ALPACA_API_KEY\")\n",
    "alpaca_secret_key = os.getenv(\"ALPACA_SECRET_KEY\")\n",
    "\n",
    "api = tradeapi.REST(alpaca_api_key, alpaca_secret_key, base_url='https://data.alpaca.markets/')"
   ]
  },
  {
   "cell_type": "code",
   "execution_count": 19,
   "metadata": {},
   "outputs": [],
   "source": [
    "# Set start and end datetimes \n",
    "start_date = pd.Timestamp(\"2009-10-01\", tz=\"America/New_York\").isoformat()\n",
    "end_date = pd.Timestamp(\"2019-10-01\", tz=\"America/New_York\").isoformat()\n",
    "\n",
    "def ticker_pull(ticker, start_date, end_date):\n",
    "    # Set timeframe to '1D'\n",
    "    timeframe = '1D'\n",
    "\n",
    "    # Get 1 year's worth of historical data for AAPL\n",
    "    df = api.get_barset(\n",
    "        ticker,\n",
    "        timeframe,\n",
    "        limit=None,\n",
    "        start=start_date,\n",
    "        end=end_date,\n",
    "        after=None,\n",
    "        until=None,\n",
    "    ).df\n",
    "\n",
    "    return df.head(10)"
   ]
  },
  {
   "cell_type": "code",
   "execution_count": 20,
   "metadata": {},
   "outputs": [
    {
     "output_type": "execute_result",
     "data": {
      "text/plain": "                             AAPL                                   \n                             open    high     low   close     volume\ntime                                                                \n2009-10-01 00:00:00-04:00  26.479  26.603  25.814  25.823  124022485\n2009-10-02 00:00:00-04:00  25.914  26.563  25.907  26.414  125291010\n2009-10-05 00:00:00-04:00  26.601  26.694  26.324  26.571  100963532\n2009-10-06 00:00:00-04:00  26.821  27.143  26.757  27.143  132031641\n2009-10-07 00:00:00-04:00  27.097  27.221  27.005  27.177  112817148\n2009-10-08 00:00:00-04:00  27.251  27.350  26.984  27.036  102335165\n2009-10-09 00:00:00-04:00  26.996  27.243  26.946  27.207   68838969\n2009-10-12 00:00:00-04:00  27.297  27.359  27.091  27.259   65999901\n2009-10-13 00:00:00-04:00  27.227  27.310  27.100  27.141   66725920\n2009-10-14 00:00:00-04:00  27.464  27.474  27.176  27.329   88361873",
      "text/html": "<div>\n<style scoped>\n    .dataframe tbody tr th:only-of-type {\n        vertical-align: middle;\n    }\n\n    .dataframe tbody tr th {\n        vertical-align: top;\n    }\n\n    .dataframe thead tr th {\n        text-align: left;\n    }\n\n    .dataframe thead tr:last-of-type th {\n        text-align: right;\n    }\n</style>\n<table border=\"1\" class=\"dataframe\">\n  <thead>\n    <tr>\n      <th></th>\n      <th colspan=\"5\" halign=\"left\">AAPL</th>\n    </tr>\n    <tr>\n      <th></th>\n      <th>open</th>\n      <th>high</th>\n      <th>low</th>\n      <th>close</th>\n      <th>volume</th>\n    </tr>\n    <tr>\n      <th>time</th>\n      <th></th>\n      <th></th>\n      <th></th>\n      <th></th>\n      <th></th>\n    </tr>\n  </thead>\n  <tbody>\n    <tr>\n      <th>2009-10-01 00:00:00-04:00</th>\n      <td>26.479</td>\n      <td>26.603</td>\n      <td>25.814</td>\n      <td>25.823</td>\n      <td>124022485</td>\n    </tr>\n    <tr>\n      <th>2009-10-02 00:00:00-04:00</th>\n      <td>25.914</td>\n      <td>26.563</td>\n      <td>25.907</td>\n      <td>26.414</td>\n      <td>125291010</td>\n    </tr>\n    <tr>\n      <th>2009-10-05 00:00:00-04:00</th>\n      <td>26.601</td>\n      <td>26.694</td>\n      <td>26.324</td>\n      <td>26.571</td>\n      <td>100963532</td>\n    </tr>\n    <tr>\n      <th>2009-10-06 00:00:00-04:00</th>\n      <td>26.821</td>\n      <td>27.143</td>\n      <td>26.757</td>\n      <td>27.143</td>\n      <td>132031641</td>\n    </tr>\n    <tr>\n      <th>2009-10-07 00:00:00-04:00</th>\n      <td>27.097</td>\n      <td>27.221</td>\n      <td>27.005</td>\n      <td>27.177</td>\n      <td>112817148</td>\n    </tr>\n    <tr>\n      <th>2009-10-08 00:00:00-04:00</th>\n      <td>27.251</td>\n      <td>27.350</td>\n      <td>26.984</td>\n      <td>27.036</td>\n      <td>102335165</td>\n    </tr>\n    <tr>\n      <th>2009-10-09 00:00:00-04:00</th>\n      <td>26.996</td>\n      <td>27.243</td>\n      <td>26.946</td>\n      <td>27.207</td>\n      <td>68838969</td>\n    </tr>\n    <tr>\n      <th>2009-10-12 00:00:00-04:00</th>\n      <td>27.297</td>\n      <td>27.359</td>\n      <td>27.091</td>\n      <td>27.259</td>\n      <td>65999901</td>\n    </tr>\n    <tr>\n      <th>2009-10-13 00:00:00-04:00</th>\n      <td>27.227</td>\n      <td>27.310</td>\n      <td>27.100</td>\n      <td>27.141</td>\n      <td>66725920</td>\n    </tr>\n    <tr>\n      <th>2009-10-14 00:00:00-04:00</th>\n      <td>27.464</td>\n      <td>27.474</td>\n      <td>27.176</td>\n      <td>27.329</td>\n      <td>88361873</td>\n    </tr>\n  </tbody>\n</table>\n</div>"
     },
     "metadata": {},
     "execution_count": 20
    }
   ],
   "source": [
    "ticker_pull('AAPL', start_date, end_date)"
   ]
  },
  {
   "cell_type": "code",
   "execution_count": null,
   "metadata": {},
   "outputs": [],
   "source": []
  }
 ],
 "metadata": {
  "kernelspec": {
   "display_name": "Python 3",
   "language": "python",
   "name": "python3"
  },
  "language_info": {
   "codemirror_mode": {
    "name": "ipython",
    "version": 3
   },
   "file_extension": ".py",
   "mimetype": "text/x-python",
   "name": "python",
   "nbconvert_exporter": "python",
   "pygments_lexer": "ipython3",
   "version": "3.8.5-final"
  }
 },
 "nbformat": 4,
 "nbformat_minor": 4
}