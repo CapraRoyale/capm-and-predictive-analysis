{
 "cells": [
  {
   "cell_type": "code",
   "execution_count": null,
   "metadata": {},
   "outputs": [],
   "source": [
    "import pandas as pd\n",
    "import pandas_datareader as web"
   ]
  },
  {
   "cell_type": "code",
   "execution_count": null,
   "metadata": {},
   "outputs": [],
   "source": [
    "stocks = ['AGG', 'SPY', \"QQQ\", 'AAPL', 'BA', 'T', 'MGM', 'AMZN', 'IBM', 'QQQ', 'GOOG']\n",
    "stocks.sort()\n",
    "start = pd.to_datetime('2014-01-01')\n",
    "end = pd.to_datetime('2019-12-31')"
   ]
  },
  {
   "cell_type": "code",
   "execution_count": null,
   "metadata": {},
   "outputs": [],
   "source": [
    "stock_data = web.DataReader(stocks, 'yahoo', start, end)"
   ]
  },
  {
   "cell_type": "code",
   "execution_count": null,
   "metadata": {},
   "outputs": [],
   "source": [
    "closing = stock_data[\"Close\"]"
   ]
  },
  {
   "cell_type": "code",
   "execution_count": null,
   "metadata": {},
   "outputs": [],
   "source": [
    "closing_csv = f\"./csv/{stocks[0]}-to-{stocks[-1]}-from-{start.date()}-to-{end.date()}.csv\"\n",
    "\n",
    "if os.path.exists(closing_csv):\n",
    "    print(f\"{closing_csv} already exists. No file was created.\")\n",
    "else:\n",
    "    closing_csv.to_csv(f\"./csv/{stocks[0]}-to-{stocks[-1]}-from-{start.date()}-to-{end.date()}.csv\")\n",
    "    print(f\"New file created at {closing_csv}\")"
   ]
  },
  {
   "cell_type": "code",
   "execution_count": null,
   "metadata": {},
   "outputs": [],
   "source": []
  }
 ],
 "metadata": {
  "kernelspec": {
   "display_name": "Python 3",
   "language": "python",
   "name": "python3"
  },
  "language_info": {
   "codemirror_mode": {
    "name": "ipython",
    "version": 3
   },
   "file_extension": ".py",
   "mimetype": "text/x-python",
   "name": "python",
   "nbconvert_exporter": "python",
   "pygments_lexer": "ipython3",
   "version": "3.8.5-final"
  }
 },
 "nbformat": 4,
 "nbformat_minor": 4
}