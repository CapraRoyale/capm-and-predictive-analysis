{
 "cells": [
  {
   "cell_type": "code",
   "execution_count": 19,
   "metadata": {},
   "outputs": [],
   "source": [
    "# IMPORT LIBRARIES\n",
    "import pandas as pd\n",
    "import seaborn as sns\n",
    "import plotly.express as px\n",
    "from copy import copy\n",
    "from scipy import stats\n",
    "import matplotlib.pyplot as plt\n",
    "import numpy as np\n",
    "import plotly.figure_factory as ff\n",
    "import plotly.graph_objects as go\n",
    "import pandas_datareader as web"
   ]
  },
  {
   "cell_type": "code",
   "execution_count": 20,
   "metadata": {},
   "outputs": [],
   "source": [
    "spy_etf=web.DataReader('SPY','yahoo')"
   ]
  },
  {
   "cell_type": "code",
   "execution_count": 21,
   "metadata": {},
   "outputs": [],
   "source": [
    "start=pd.to_datetime('2010-03-10')\n",
    "end=pd.to_datetime('2020-03-10')"
   ]
  },
  {
   "cell_type": "code",
   "execution_count": 22,
   "metadata": {},
   "outputs": [],
   "source": [
    "# READ THE STOCK DATA FILE\n",
    "aapl=web.DataReader('AAPL','yahoo',start, end)"
   ]
  },
  {
   "cell_type": "code",
   "execution_count": 52,
   "metadata": {},
   "outputs": [
    {
     "data": {
      "text/html": [
       "<div>\n",
       "<style scoped>\n",
       "    .dataframe tbody tr th:only-of-type {\n",
       "        vertical-align: middle;\n",
       "    }\n",
       "\n",
       "    .dataframe tbody tr th {\n",
       "        vertical-align: top;\n",
       "    }\n",
       "\n",
       "    .dataframe thead th {\n",
       "        text-align: right;\n",
       "    }\n",
       "</style>\n",
       "<table border=\"1\" class=\"dataframe\">\n",
       "  <thead>\n",
       "    <tr style=\"text-align: right;\">\n",
       "      <th></th>\n",
       "      <th>High</th>\n",
       "      <th>Low</th>\n",
       "      <th>Open</th>\n",
       "      <th>Close</th>\n",
       "      <th>Volume</th>\n",
       "      <th>Adj Close</th>\n",
       "    </tr>\n",
       "    <tr>\n",
       "      <th>Date</th>\n",
       "      <th></th>\n",
       "      <th></th>\n",
       "      <th></th>\n",
       "      <th></th>\n",
       "      <th></th>\n",
       "      <th></th>\n",
       "    </tr>\n",
       "  </thead>\n",
       "  <tbody>\n",
       "    <tr>\n",
       "      <th>2010-03-10</th>\n",
       "      <td>8.052857</td>\n",
       "      <td>7.971428</td>\n",
       "      <td>7.993928</td>\n",
       "      <td>8.030000</td>\n",
       "      <td>596218000.0</td>\n",
       "      <td>6.939038</td>\n",
       "    </tr>\n",
       "    <tr>\n",
       "      <th>2010-03-11</th>\n",
       "      <td>8.053572</td>\n",
       "      <td>7.975714</td>\n",
       "      <td>7.996786</td>\n",
       "      <td>8.053572</td>\n",
       "      <td>405700400.0</td>\n",
       "      <td>6.959407</td>\n",
       "    </tr>\n",
       "    <tr>\n",
       "      <th>2010-03-12</th>\n",
       "      <td>8.133214</td>\n",
       "      <td>8.062500</td>\n",
       "      <td>8.120358</td>\n",
       "      <td>8.092857</td>\n",
       "      <td>416323600.0</td>\n",
       "      <td>6.993356</td>\n",
       "    </tr>\n",
       "    <tr>\n",
       "      <th>2010-03-15</th>\n",
       "      <td>8.053572</td>\n",
       "      <td>7.866071</td>\n",
       "      <td>8.049286</td>\n",
       "      <td>7.994286</td>\n",
       "      <td>493502800.0</td>\n",
       "      <td>6.908176</td>\n",
       "    </tr>\n",
       "    <tr>\n",
       "      <th>2010-03-16</th>\n",
       "      <td>8.035000</td>\n",
       "      <td>7.946786</td>\n",
       "      <td>8.006429</td>\n",
       "      <td>8.016071</td>\n",
       "      <td>446908000.0</td>\n",
       "      <td>6.927001</td>\n",
       "    </tr>\n",
       "  </tbody>\n",
       "</table>\n",
       "</div>"
      ],
      "text/plain": [
       "                High       Low      Open     Close       Volume  Adj Close\n",
       "Date                                                                      \n",
       "2010-03-10  8.052857  7.971428  7.993928  8.030000  596218000.0   6.939038\n",
       "2010-03-11  8.053572  7.975714  7.996786  8.053572  405700400.0   6.959407\n",
       "2010-03-12  8.133214  8.062500  8.120358  8.092857  416323600.0   6.993356\n",
       "2010-03-15  8.053572  7.866071  8.049286  7.994286  493502800.0   6.908176\n",
       "2010-03-16  8.035000  7.946786  8.006429  8.016071  446908000.0   6.927001"
      ]
     },
     "execution_count": 52,
     "metadata": {},
     "output_type": "execute_result"
    }
   ],
   "source": [
    "aapl.head()"
   ]
  },
  {
   "cell_type": "code",
   "execution_count": 53,
   "metadata": {},
   "outputs": [],
   "source": [
    "stock_df=pd.read_csv('stock.csv')"
   ]
  },
  {
   "cell_type": "code",
   "execution_count": 54,
   "metadata": {},
   "outputs": [
    {
     "data": {
      "text/html": [
       "<div>\n",
       "<style scoped>\n",
       "    .dataframe tbody tr th:only-of-type {\n",
       "        vertical-align: middle;\n",
       "    }\n",
       "\n",
       "    .dataframe tbody tr th {\n",
       "        vertical-align: top;\n",
       "    }\n",
       "\n",
       "    .dataframe thead th {\n",
       "        text-align: right;\n",
       "    }\n",
       "</style>\n",
       "<table border=\"1\" class=\"dataframe\">\n",
       "  <thead>\n",
       "    <tr style=\"text-align: right;\">\n",
       "      <th></th>\n",
       "      <th>Date</th>\n",
       "      <th>AAPL</th>\n",
       "      <th>BA</th>\n",
       "      <th>T</th>\n",
       "      <th>MGM</th>\n",
       "      <th>AMZN</th>\n",
       "      <th>IBM</th>\n",
       "      <th>TSLA</th>\n",
       "      <th>GOOG</th>\n",
       "      <th>sp500</th>\n",
       "    </tr>\n",
       "  </thead>\n",
       "  <tbody>\n",
       "    <tr>\n",
       "      <th>0</th>\n",
       "      <td>2012-01-12</td>\n",
       "      <td>60.198570</td>\n",
       "      <td>75.510002</td>\n",
       "      <td>30.120001</td>\n",
       "      <td>12.13</td>\n",
       "      <td>175.929993</td>\n",
       "      <td>180.550003</td>\n",
       "      <td>28.250000</td>\n",
       "      <td>313.644379</td>\n",
       "      <td>1295.500000</td>\n",
       "    </tr>\n",
       "    <tr>\n",
       "      <th>1</th>\n",
       "      <td>2012-01-13</td>\n",
       "      <td>59.972858</td>\n",
       "      <td>74.599998</td>\n",
       "      <td>30.070000</td>\n",
       "      <td>12.35</td>\n",
       "      <td>178.419998</td>\n",
       "      <td>179.160004</td>\n",
       "      <td>22.790001</td>\n",
       "      <td>311.328064</td>\n",
       "      <td>1289.089966</td>\n",
       "    </tr>\n",
       "    <tr>\n",
       "      <th>2</th>\n",
       "      <td>2012-01-17</td>\n",
       "      <td>60.671429</td>\n",
       "      <td>75.239998</td>\n",
       "      <td>30.250000</td>\n",
       "      <td>12.25</td>\n",
       "      <td>181.660004</td>\n",
       "      <td>180.000000</td>\n",
       "      <td>26.600000</td>\n",
       "      <td>313.116364</td>\n",
       "      <td>1293.670044</td>\n",
       "    </tr>\n",
       "    <tr>\n",
       "      <th>3</th>\n",
       "      <td>2012-01-18</td>\n",
       "      <td>61.301430</td>\n",
       "      <td>75.059998</td>\n",
       "      <td>30.330000</td>\n",
       "      <td>12.73</td>\n",
       "      <td>189.440002</td>\n",
       "      <td>181.070007</td>\n",
       "      <td>26.809999</td>\n",
       "      <td>315.273285</td>\n",
       "      <td>1308.040039</td>\n",
       "    </tr>\n",
       "    <tr>\n",
       "      <th>4</th>\n",
       "      <td>2012-01-19</td>\n",
       "      <td>61.107143</td>\n",
       "      <td>75.559998</td>\n",
       "      <td>30.420000</td>\n",
       "      <td>12.80</td>\n",
       "      <td>194.449997</td>\n",
       "      <td>180.520004</td>\n",
       "      <td>26.760000</td>\n",
       "      <td>318.590851</td>\n",
       "      <td>1314.500000</td>\n",
       "    </tr>\n",
       "  </tbody>\n",
       "</table>\n",
       "</div>"
      ],
      "text/plain": [
       "         Date       AAPL         BA          T    MGM        AMZN         IBM  \\\n",
       "0  2012-01-12  60.198570  75.510002  30.120001  12.13  175.929993  180.550003   \n",
       "1  2012-01-13  59.972858  74.599998  30.070000  12.35  178.419998  179.160004   \n",
       "2  2012-01-17  60.671429  75.239998  30.250000  12.25  181.660004  180.000000   \n",
       "3  2012-01-18  61.301430  75.059998  30.330000  12.73  189.440002  181.070007   \n",
       "4  2012-01-19  61.107143  75.559998  30.420000  12.80  194.449997  180.520004   \n",
       "\n",
       "        TSLA        GOOG        sp500  \n",
       "0  28.250000  313.644379  1295.500000  \n",
       "1  22.790001  311.328064  1289.089966  \n",
       "2  26.600000  313.116364  1293.670044  \n",
       "3  26.809999  315.273285  1308.040039  \n",
       "4  26.760000  318.590851  1314.500000  "
      ]
     },
     "execution_count": 54,
     "metadata": {},
     "output_type": "execute_result"
    }
   ],
   "source": [
    "stock_df.head()"
   ]
  },
  {
   "cell_type": "code",
   "execution_count": 25,
   "metadata": {},
   "outputs": [
    {
     "data": {
      "text/html": [
       "<div>\n",
       "<style scoped>\n",
       "    .dataframe tbody tr th:only-of-type {\n",
       "        vertical-align: middle;\n",
       "    }\n",
       "\n",
       "    .dataframe tbody tr th {\n",
       "        vertical-align: top;\n",
       "    }\n",
       "\n",
       "    .dataframe thead th {\n",
       "        text-align: right;\n",
       "    }\n",
       "</style>\n",
       "<table border=\"1\" class=\"dataframe\">\n",
       "  <thead>\n",
       "    <tr style=\"text-align: right;\">\n",
       "      <th></th>\n",
       "      <th>Date</th>\n",
       "      <th>AAPL</th>\n",
       "      <th>BA</th>\n",
       "      <th>T</th>\n",
       "      <th>MGM</th>\n",
       "      <th>AMZN</th>\n",
       "      <th>IBM</th>\n",
       "      <th>TSLA</th>\n",
       "      <th>GOOG</th>\n",
       "      <th>sp500</th>\n",
       "    </tr>\n",
       "  </thead>\n",
       "  <tbody>\n",
       "    <tr>\n",
       "      <th>0</th>\n",
       "      <td>2012-01-12</td>\n",
       "      <td>60.198570</td>\n",
       "      <td>75.510002</td>\n",
       "      <td>30.120001</td>\n",
       "      <td>12.130000</td>\n",
       "      <td>175.929993</td>\n",
       "      <td>180.550003</td>\n",
       "      <td>28.250000</td>\n",
       "      <td>313.644379</td>\n",
       "      <td>1295.500000</td>\n",
       "    </tr>\n",
       "    <tr>\n",
       "      <th>1</th>\n",
       "      <td>2012-01-13</td>\n",
       "      <td>59.972858</td>\n",
       "      <td>74.599998</td>\n",
       "      <td>30.070000</td>\n",
       "      <td>12.350000</td>\n",
       "      <td>178.419998</td>\n",
       "      <td>179.160004</td>\n",
       "      <td>22.790001</td>\n",
       "      <td>311.328064</td>\n",
       "      <td>1289.089966</td>\n",
       "    </tr>\n",
       "    <tr>\n",
       "      <th>2</th>\n",
       "      <td>2012-01-17</td>\n",
       "      <td>60.671429</td>\n",
       "      <td>75.239998</td>\n",
       "      <td>30.250000</td>\n",
       "      <td>12.250000</td>\n",
       "      <td>181.660004</td>\n",
       "      <td>180.000000</td>\n",
       "      <td>26.600000</td>\n",
       "      <td>313.116364</td>\n",
       "      <td>1293.670044</td>\n",
       "    </tr>\n",
       "    <tr>\n",
       "      <th>3</th>\n",
       "      <td>2012-01-18</td>\n",
       "      <td>61.301430</td>\n",
       "      <td>75.059998</td>\n",
       "      <td>30.330000</td>\n",
       "      <td>12.730000</td>\n",
       "      <td>189.440002</td>\n",
       "      <td>181.070007</td>\n",
       "      <td>26.809999</td>\n",
       "      <td>315.273285</td>\n",
       "      <td>1308.040039</td>\n",
       "    </tr>\n",
       "    <tr>\n",
       "      <th>4</th>\n",
       "      <td>2012-01-19</td>\n",
       "      <td>61.107143</td>\n",
       "      <td>75.559998</td>\n",
       "      <td>30.420000</td>\n",
       "      <td>12.800000</td>\n",
       "      <td>194.449997</td>\n",
       "      <td>180.520004</td>\n",
       "      <td>26.760000</td>\n",
       "      <td>318.590851</td>\n",
       "      <td>1314.500000</td>\n",
       "    </tr>\n",
       "    <tr>\n",
       "      <th>...</th>\n",
       "      <td>...</td>\n",
       "      <td>...</td>\n",
       "      <td>...</td>\n",
       "      <td>...</td>\n",
       "      <td>...</td>\n",
       "      <td>...</td>\n",
       "      <td>...</td>\n",
       "      <td>...</td>\n",
       "      <td>...</td>\n",
       "      <td>...</td>\n",
       "    </tr>\n",
       "    <tr>\n",
       "      <th>2154</th>\n",
       "      <td>2020-08-05</td>\n",
       "      <td>440.250000</td>\n",
       "      <td>174.279999</td>\n",
       "      <td>29.850000</td>\n",
       "      <td>16.719999</td>\n",
       "      <td>3205.030029</td>\n",
       "      <td>125.449997</td>\n",
       "      <td>1485.020020</td>\n",
       "      <td>1473.609985</td>\n",
       "      <td>3327.770020</td>\n",
       "    </tr>\n",
       "    <tr>\n",
       "      <th>2155</th>\n",
       "      <td>2020-08-06</td>\n",
       "      <td>455.609985</td>\n",
       "      <td>172.199997</td>\n",
       "      <td>29.840000</td>\n",
       "      <td>18.459999</td>\n",
       "      <td>3225.000000</td>\n",
       "      <td>126.120003</td>\n",
       "      <td>1489.579956</td>\n",
       "      <td>1500.099976</td>\n",
       "      <td>3349.159912</td>\n",
       "    </tr>\n",
       "    <tr>\n",
       "      <th>2156</th>\n",
       "      <td>2020-08-07</td>\n",
       "      <td>444.450012</td>\n",
       "      <td>170.020004</td>\n",
       "      <td>30.020000</td>\n",
       "      <td>19.030001</td>\n",
       "      <td>3167.459961</td>\n",
       "      <td>124.959999</td>\n",
       "      <td>1452.709961</td>\n",
       "      <td>1494.489990</td>\n",
       "      <td>3351.280029</td>\n",
       "    </tr>\n",
       "    <tr>\n",
       "      <th>2157</th>\n",
       "      <td>2020-08-10</td>\n",
       "      <td>450.910004</td>\n",
       "      <td>179.410004</td>\n",
       "      <td>30.200001</td>\n",
       "      <td>21.650000</td>\n",
       "      <td>3148.159912</td>\n",
       "      <td>127.110001</td>\n",
       "      <td>1418.569946</td>\n",
       "      <td>1496.099976</td>\n",
       "      <td>3360.469971</td>\n",
       "    </tr>\n",
       "    <tr>\n",
       "      <th>2158</th>\n",
       "      <td>2020-08-11</td>\n",
       "      <td>437.500000</td>\n",
       "      <td>180.130005</td>\n",
       "      <td>30.200001</td>\n",
       "      <td>21.500000</td>\n",
       "      <td>3080.669922</td>\n",
       "      <td>126.750000</td>\n",
       "      <td>1374.390015</td>\n",
       "      <td>1480.319946</td>\n",
       "      <td>3333.689941</td>\n",
       "    </tr>\n",
       "  </tbody>\n",
       "</table>\n",
       "<p>2159 rows × 10 columns</p>\n",
       "</div>"
      ],
      "text/plain": [
       "            Date        AAPL          BA          T        MGM         AMZN  \\\n",
       "0     2012-01-12   60.198570   75.510002  30.120001  12.130000   175.929993   \n",
       "1     2012-01-13   59.972858   74.599998  30.070000  12.350000   178.419998   \n",
       "2     2012-01-17   60.671429   75.239998  30.250000  12.250000   181.660004   \n",
       "3     2012-01-18   61.301430   75.059998  30.330000  12.730000   189.440002   \n",
       "4     2012-01-19   61.107143   75.559998  30.420000  12.800000   194.449997   \n",
       "...          ...         ...         ...        ...        ...          ...   \n",
       "2154  2020-08-05  440.250000  174.279999  29.850000  16.719999  3205.030029   \n",
       "2155  2020-08-06  455.609985  172.199997  29.840000  18.459999  3225.000000   \n",
       "2156  2020-08-07  444.450012  170.020004  30.020000  19.030001  3167.459961   \n",
       "2157  2020-08-10  450.910004  179.410004  30.200001  21.650000  3148.159912   \n",
       "2158  2020-08-11  437.500000  180.130005  30.200001  21.500000  3080.669922   \n",
       "\n",
       "             IBM         TSLA         GOOG        sp500  \n",
       "0     180.550003    28.250000   313.644379  1295.500000  \n",
       "1     179.160004    22.790001   311.328064  1289.089966  \n",
       "2     180.000000    26.600000   313.116364  1293.670044  \n",
       "3     181.070007    26.809999   315.273285  1308.040039  \n",
       "4     180.520004    26.760000   318.590851  1314.500000  \n",
       "...          ...          ...          ...          ...  \n",
       "2154  125.449997  1485.020020  1473.609985  3327.770020  \n",
       "2155  126.120003  1489.579956  1500.099976  3349.159912  \n",
       "2156  124.959999  1452.709961  1494.489990  3351.280029  \n",
       "2157  127.110001  1418.569946  1496.099976  3360.469971  \n",
       "2158  126.750000  1374.390015  1480.319946  3333.689941  \n",
       "\n",
       "[2159 rows x 10 columns]"
      ]
     },
     "execution_count": 25,
     "metadata": {},
     "output_type": "execute_result"
    }
   ],
   "source": [
    "# SORT THE DATA BASED ON DATE\n",
    "stock_df=stock_df.sort_values(by=['Date'])\n",
    "stock_df"
   ]
  },
  {
   "cell_type": "code",
   "execution_count": 26,
   "metadata": {},
   "outputs": [],
   "source": [
    "# Function to normalize the price based on the initial price\n",
    "def normalize(df):\n",
    "    x=df.copy()\n",
    "    for i in x.columns[1:]:\n",
    "        x[i]=x[i]/x[i][0]\n",
    "    return x"
   ]
  },
  {
   "cell_type": "code",
   "execution_count": 27,
   "metadata": {},
   "outputs": [],
   "source": [
    "#  Function to calculate the daily returns \n",
    "def daily_return(df):\n",
    "\n",
    "  df_daily_return = df.copy()\n",
    "  \n",
    "  # Loop through each stock\n",
    "  for i in df.columns[1:]:\n",
    "    \n",
    "    # Loop through each row belonging to the stock\n",
    "    for j in range(1, len(df)):\n",
    "      \n",
    "      # Calculate the percentage of change from the previous day\n",
    "      df_daily_return[i][j] = ((df[i][j]- df[i][j-1])/df[i][j-1]) * 100\n",
    "    \n",
    "    # set the value of first row to zero, as previous value is not available\n",
    "    df_daily_return[i][0] = 0\n",
    "  return df_daily_return"
   ]
  },
  {
   "cell_type": "code",
   "execution_count": 29,
   "metadata": {},
   "outputs": [
    {
     "data": {
      "text/html": [
       "<div>\n",
       "<style scoped>\n",
       "    .dataframe tbody tr th:only-of-type {\n",
       "        vertical-align: middle;\n",
       "    }\n",
       "\n",
       "    .dataframe tbody tr th {\n",
       "        vertical-align: top;\n",
       "    }\n",
       "\n",
       "    .dataframe thead th {\n",
       "        text-align: right;\n",
       "    }\n",
       "</style>\n",
       "<table border=\"1\" class=\"dataframe\">\n",
       "  <thead>\n",
       "    <tr style=\"text-align: right;\">\n",
       "      <th></th>\n",
       "      <th>Date</th>\n",
       "      <th>AAPL</th>\n",
       "      <th>BA</th>\n",
       "      <th>T</th>\n",
       "      <th>MGM</th>\n",
       "      <th>AMZN</th>\n",
       "      <th>IBM</th>\n",
       "      <th>TSLA</th>\n",
       "      <th>GOOG</th>\n",
       "      <th>sp500</th>\n",
       "    </tr>\n",
       "  </thead>\n",
       "  <tbody>\n",
       "    <tr>\n",
       "      <th>0</th>\n",
       "      <td>2012-01-12</td>\n",
       "      <td>0.000000</td>\n",
       "      <td>0.000000</td>\n",
       "      <td>0.000000</td>\n",
       "      <td>0.000000</td>\n",
       "      <td>0.000000</td>\n",
       "      <td>0.000000</td>\n",
       "      <td>0.000000</td>\n",
       "      <td>0.000000</td>\n",
       "      <td>0.000000</td>\n",
       "    </tr>\n",
       "    <tr>\n",
       "      <th>1</th>\n",
       "      <td>2012-01-13</td>\n",
       "      <td>-0.374946</td>\n",
       "      <td>-1.205144</td>\n",
       "      <td>-0.166006</td>\n",
       "      <td>1.813685</td>\n",
       "      <td>1.415339</td>\n",
       "      <td>-0.769869</td>\n",
       "      <td>-19.327430</td>\n",
       "      <td>-0.738516</td>\n",
       "      <td>-0.494792</td>\n",
       "    </tr>\n",
       "    <tr>\n",
       "      <th>2</th>\n",
       "      <td>2012-01-17</td>\n",
       "      <td>1.164812</td>\n",
       "      <td>0.857909</td>\n",
       "      <td>0.598603</td>\n",
       "      <td>-0.809717</td>\n",
       "      <td>1.815943</td>\n",
       "      <td>0.468852</td>\n",
       "      <td>16.717854</td>\n",
       "      <td>0.574410</td>\n",
       "      <td>0.355295</td>\n",
       "    </tr>\n",
       "    <tr>\n",
       "      <th>3</th>\n",
       "      <td>2012-01-18</td>\n",
       "      <td>1.038382</td>\n",
       "      <td>-0.239234</td>\n",
       "      <td>0.264463</td>\n",
       "      <td>3.918367</td>\n",
       "      <td>4.282725</td>\n",
       "      <td>0.594448</td>\n",
       "      <td>0.789470</td>\n",
       "      <td>0.688856</td>\n",
       "      <td>1.110793</td>\n",
       "    </tr>\n",
       "    <tr>\n",
       "      <th>4</th>\n",
       "      <td>2012-01-19</td>\n",
       "      <td>-0.316937</td>\n",
       "      <td>0.666134</td>\n",
       "      <td>0.296736</td>\n",
       "      <td>0.549882</td>\n",
       "      <td>2.644634</td>\n",
       "      <td>-0.303752</td>\n",
       "      <td>-0.186494</td>\n",
       "      <td>1.052283</td>\n",
       "      <td>0.493866</td>\n",
       "    </tr>\n",
       "    <tr>\n",
       "      <th>...</th>\n",
       "      <td>...</td>\n",
       "      <td>...</td>\n",
       "      <td>...</td>\n",
       "      <td>...</td>\n",
       "      <td>...</td>\n",
       "      <td>...</td>\n",
       "      <td>...</td>\n",
       "      <td>...</td>\n",
       "      <td>...</td>\n",
       "      <td>...</td>\n",
       "    </tr>\n",
       "    <tr>\n",
       "      <th>2154</th>\n",
       "      <td>2020-08-05</td>\n",
       "      <td>0.362467</td>\n",
       "      <td>5.579446</td>\n",
       "      <td>-0.533156</td>\n",
       "      <td>0.000000</td>\n",
       "      <td>2.109065</td>\n",
       "      <td>-0.309917</td>\n",
       "      <td>-0.133153</td>\n",
       "      <td>0.589774</td>\n",
       "      <td>0.642974</td>\n",
       "    </tr>\n",
       "    <tr>\n",
       "      <th>2155</th>\n",
       "      <td>2020-08-06</td>\n",
       "      <td>3.488923</td>\n",
       "      <td>-1.193483</td>\n",
       "      <td>-0.033501</td>\n",
       "      <td>10.406699</td>\n",
       "      <td>0.623082</td>\n",
       "      <td>0.534082</td>\n",
       "      <td>0.307062</td>\n",
       "      <td>1.797626</td>\n",
       "      <td>0.642770</td>\n",
       "    </tr>\n",
       "    <tr>\n",
       "      <th>2156</th>\n",
       "      <td>2020-08-07</td>\n",
       "      <td>-2.449458</td>\n",
       "      <td>-1.265966</td>\n",
       "      <td>0.603217</td>\n",
       "      <td>3.087768</td>\n",
       "      <td>-1.784187</td>\n",
       "      <td>-0.919762</td>\n",
       "      <td>-2.475194</td>\n",
       "      <td>-0.373974</td>\n",
       "      <td>0.063303</td>\n",
       "    </tr>\n",
       "    <tr>\n",
       "      <th>2157</th>\n",
       "      <td>2020-08-10</td>\n",
       "      <td>1.453480</td>\n",
       "      <td>5.522880</td>\n",
       "      <td>0.599604</td>\n",
       "      <td>13.767729</td>\n",
       "      <td>-0.609323</td>\n",
       "      <td>1.720552</td>\n",
       "      <td>-2.350092</td>\n",
       "      <td>0.107728</td>\n",
       "      <td>0.274222</td>\n",
       "    </tr>\n",
       "    <tr>\n",
       "      <th>2158</th>\n",
       "      <td>2020-08-11</td>\n",
       "      <td>-2.973987</td>\n",
       "      <td>0.401316</td>\n",
       "      <td>0.000000</td>\n",
       "      <td>-0.692841</td>\n",
       "      <td>-2.143792</td>\n",
       "      <td>-0.283220</td>\n",
       "      <td>-3.114399</td>\n",
       "      <td>-1.054744</td>\n",
       "      <td>-0.796913</td>\n",
       "    </tr>\n",
       "  </tbody>\n",
       "</table>\n",
       "<p>2159 rows × 10 columns</p>\n",
       "</div>"
      ],
      "text/plain": [
       "            Date      AAPL        BA         T        MGM      AMZN       IBM  \\\n",
       "0     2012-01-12  0.000000  0.000000  0.000000   0.000000  0.000000  0.000000   \n",
       "1     2012-01-13 -0.374946 -1.205144 -0.166006   1.813685  1.415339 -0.769869   \n",
       "2     2012-01-17  1.164812  0.857909  0.598603  -0.809717  1.815943  0.468852   \n",
       "3     2012-01-18  1.038382 -0.239234  0.264463   3.918367  4.282725  0.594448   \n",
       "4     2012-01-19 -0.316937  0.666134  0.296736   0.549882  2.644634 -0.303752   \n",
       "...          ...       ...       ...       ...        ...       ...       ...   \n",
       "2154  2020-08-05  0.362467  5.579446 -0.533156   0.000000  2.109065 -0.309917   \n",
       "2155  2020-08-06  3.488923 -1.193483 -0.033501  10.406699  0.623082  0.534082   \n",
       "2156  2020-08-07 -2.449458 -1.265966  0.603217   3.087768 -1.784187 -0.919762   \n",
       "2157  2020-08-10  1.453480  5.522880  0.599604  13.767729 -0.609323  1.720552   \n",
       "2158  2020-08-11 -2.973987  0.401316  0.000000  -0.692841 -2.143792 -0.283220   \n",
       "\n",
       "           TSLA      GOOG     sp500  \n",
       "0      0.000000  0.000000  0.000000  \n",
       "1    -19.327430 -0.738516 -0.494792  \n",
       "2     16.717854  0.574410  0.355295  \n",
       "3      0.789470  0.688856  1.110793  \n",
       "4     -0.186494  1.052283  0.493866  \n",
       "...         ...       ...       ...  \n",
       "2154  -0.133153  0.589774  0.642974  \n",
       "2155   0.307062  1.797626  0.642770  \n",
       "2156  -2.475194 -0.373974  0.063303  \n",
       "2157  -2.350092  0.107728  0.274222  \n",
       "2158  -3.114399 -1.054744 -0.796913  \n",
       "\n",
       "[2159 rows x 10 columns]"
      ]
     },
     "execution_count": 29,
     "metadata": {},
     "output_type": "execute_result"
    }
   ],
   "source": [
    "# Get the daily returns \n",
    "stocks_daily_return = daily_return(stock_df)\n",
    "stocks_daily_return"
   ]
  },
  {
   "cell_type": "markdown",
   "metadata": {},
   "source": [
    "Which of the following has higher average daily return?\n",
    "S&P500 or Google\n",
    "S&P500 or Amazon"
   ]
  },
  {
   "cell_type": "markdown",
   "metadata": {},
   "source": [
    "# TASK #4: CALCULATE BETA FOR A SINGLE STOCK"
   ]
  },
  {
   "cell_type": "code",
   "execution_count": 30,
   "metadata": {},
   "outputs": [
    {
     "data": {
      "text/plain": [
       "0       0.000000\n",
       "1      -0.374946\n",
       "2       1.164812\n",
       "3       1.038382\n",
       "4      -0.316937\n",
       "          ...   \n",
       "2154    0.362467\n",
       "2155    3.488923\n",
       "2156   -2.449458\n",
       "2157    1.453480\n",
       "2158   -2.973987\n",
       "Name: AAPL, Length: 2159, dtype: float64"
      ]
     },
     "execution_count": 30,
     "metadata": {},
     "output_type": "execute_result"
    }
   ],
   "source": [
    "# Select any stock, let's say Apple \n",
    "stocks_daily_return['AAPL']"
   ]
  },
  {
   "cell_type": "code",
   "execution_count": 31,
   "metadata": {},
   "outputs": [
    {
     "data": {
      "text/plain": [
       "<AxesSubplot:xlabel='sp500', ylabel='AAPL'>"
      ]
     },
     "execution_count": 31,
     "metadata": {},
     "output_type": "execute_result"
    },
    {
     "data": {
      "image/png": "[encoded data removed]",
      "text/plain": [
       "<Figure size 432x288 with 1 Axes>"
      ]
     },
     "metadata": {
      "needs_background": "light"
     },
     "output_type": "display_data"
    }
   ],
   "source": [
    "# plot a scatter plot between the selected stock and the S&P500 (Market)\n",
    "stocks_daily_return.plot(kind = 'scatter', x = 'sp500', y = 'AAPL')"
   ]
  },
  {
   "cell_type": "code",
   "execution_count": 32,
   "metadata": {},
   "outputs": [],
   "source": [
    "# Fit a polynomial between the selected stock and the S&P500 (Poly with order = 1 is a straight line)\n",
    "\n",
    "# beta represents the slope of the line regression line (market return vs. stock return). \n",
    "# Beta is a measure of the volatility or systematic risk of a security or portfolio compared to the entire market (S&P500) \n",
    "# Beta is used in the CAPM and describes the relationship between systematic risk and expected return for assets \n",
    "\n",
    "# Beta = 1.0, this indicates that its price activity is strongly correlated with the market. \n",
    "# Beta < 1, indicates that the security is theoretically less volatile than the market (Ex: Utility stocks). If the stock is included, this will make the portfolio less risky compared to the same portfolio without the stock.\n",
    "# Beta > 1, indicates that the security's price is more volatile than the market. For instance, Tesla stock beta is 1.26 indicating that it's 26% more volatile than the market. \n",
    "# Tech stocks generally have higher betas than S&P500 but they also have excess returns\n",
    "# MGM is 65% more volatile than the S&P500!"
   ]
  },
  {
   "cell_type": "code",
   "execution_count": 33,
   "metadata": {},
   "outputs": [
    {
     "name": "stdout",
     "output_type": "stream",
     "text": [
      "Beta for AAPL stock is = 1.1128924148678123 and alpha is = 0.05281208469440257\n"
     ]
    }
   ],
   "source": [
    "beta, alpha = np.polyfit(stocks_daily_return['sp500'], stocks_daily_return['AAPL'], 1)\n",
    "print('Beta for {} stock is = {} and alpha is = {}'.format('AAPL', beta, alpha)) "
   ]
  },
  {
   "cell_type": "code",
   "execution_count": 34,
   "metadata": {},
   "outputs": [
    {
     "data": {
      "text/plain": [
       "<AxesSubplot:xlabel='sp500', ylabel='AAPL'>"
      ]
     },
     "execution_count": 34,
     "metadata": {},
     "output_type": "execute_result"
    },
    {
     "data": {
      "image/png": "[encoded data removed]",
      "text/plain": [
       "<Figure size 432x288 with 1 Axes>"
      ]
     },
     "metadata": {
      "needs_background": "light"
     },
     "output_type": "display_data"
    }
   ],
   "source": [
    "# Now let's plot the scatter plot and the straight line on one plot\n",
    "stocks_daily_return.plot(kind = 'scatter', x = 'sp500', y = 'AAPL')"
   ]
  },
  {
   "cell_type": "code",
   "execution_count": 35,
   "metadata": {},
   "outputs": [
    {
     "data": {
      "text/plain": [
       "[<matplotlib.lines.Line2D at 0x5689f70>]"
      ]
     },
     "execution_count": 35,
     "metadata": {},
     "output_type": "execute_result"
    },
    {
     "data": {
      "image/png": "[encoded data removed]",
      "text/plain": [
       "<Figure size 432x288 with 1 Axes>"
      ]
     },
     "metadata": {
      "needs_background": "light"
     },
     "output_type": "display_data"
    }
   ],
   "source": [
    "# Straight line equation with alpha and beta parameters \n",
    "# Straight line equation is y = beta * rm + alpha\n",
    "plt.plot(stocks_daily_return['sp500'], beta * stocks_daily_return['sp500'] + alpha, '-', color = 'r')"
   ]
  },
  {
   "cell_type": "markdown",
   "metadata": {},
   "source": [
    "<!-- TASK #5: APPLY THE CAPM FORMULA TO AN INDIVIDUAL STOCK -->"
   ]
  },
  {
   "cell_type": "markdown",
   "metadata": {},
   "source": [
    "TASK #5: APPLY THE CAPM FORMULA TO AN INDIVIDUAL STOCK"
   ]
  },
  {
   "cell_type": "code",
   "execution_count": 36,
   "metadata": {},
   "outputs": [
    {
     "data": {
      "text/plain": [
       "1.1128924148678123"
      ]
     },
     "execution_count": 36,
     "metadata": {},
     "output_type": "execute_result"
    }
   ],
   "source": [
    "beta"
   ]
  },
  {
   "cell_type": "code",
   "execution_count": 37,
   "metadata": {},
   "outputs": [
    {
     "data": {
      "text/plain": [
       "0.04931600660038911"
      ]
     },
     "execution_count": 37,
     "metadata": {},
     "output_type": "execute_result"
    }
   ],
   "source": [
    "# Let's calculate the average daily rate of return for S&P500\n",
    "stocks_daily_return['sp500'].mean()"
   ]
  },
  {
   "cell_type": "code",
   "execution_count": 38,
   "metadata": {},
   "outputs": [
    {
     "data": {
      "text/plain": [
       "12.427633663298055"
      ]
     },
     "execution_count": 38,
     "metadata": {},
     "output_type": "execute_result"
    }
   ],
   "source": [
    "# Let's calculate the annualized rate of return for S&P500 \n",
    "# Note that out of 365 days/year, stock exchanges are closed for 104 days during weekend days (Saturday and Sunday) \n",
    "# Check your answers with: https://dqydj.com/sp-500-return-calculator/\n",
    "rm = stocks_daily_return['sp500'].mean() * 252\n",
    "rm"
   ]
  },
  {
   "cell_type": "code",
   "execution_count": 39,
   "metadata": {},
   "outputs": [],
   "source": [
    "# Assume risk free rate is zero\n",
    "# Also you can use the yield of a 10-years U.S. Government bond as a risk free rate\n",
    "rf = 0 \n",
    "\n",
    "# Calculate return for any security (APPL) using CAPM  \n",
    "ER_AAPL = rf + ( beta * (rm-rf) ) "
   ]
  },
  {
   "cell_type": "code",
   "execution_count": 40,
   "metadata": {},
   "outputs": [
    {
     "data": {
      "text/plain": [
       "13.830619238640288"
      ]
     },
     "execution_count": 40,
     "metadata": {},
     "output_type": "execute_result"
    }
   ],
   "source": [
    "ER_AAPL"
   ]
  },
  {
   "cell_type": "markdown",
   "metadata": {},
   "source": [
    "TASK #6: CALCULATE BETA FOR ALL STOCKS"
   ]
  },
  {
   "cell_type": "code",
   "execution_count": 41,
   "metadata": {},
   "outputs": [
    {
     "data": {
      "image/png": "[encoded data removed]",
      "text/plain": [
       "<Figure size 432x288 with 1 Axes>"
      ]
     },
     "metadata": {
      "needs_background": "light"
     },
     "output_type": "display_data"
    },
    {
     "data": {
      "image/png": "[encoded data removed]",
      "text/plain": [
       "<Figure size 432x288 with 1 Axes>"
      ]
     },
     "metadata": {
      "needs_background": "light"
     },
     "output_type": "display_data"
    },
    {
     "data": {
      "image/png": "[encoded data removed]",
      "text/plain": [
       "<Figure size 432x288 with 1 Axes>"
      ]
     },
     "metadata": {
      "needs_background": "light"
     },
     "output_type": "display_data"
    },
    {
     "data": {
      "image/png": "[encoded data removed]",
      "text/plain": [
       "<Figure size 432x288 with 1 Axes>"
      ]
     },
     "metadata": {
      "needs_background": "light"
     },
     "output_type": "display_data"
    },
    {
     "data": {
      "image/png": "[encoded data removed]",
      "text/plain": [
       "<Figure size 432x288 with 1 Axes>"
      ]
     },
     "metadata": {
      "needs_background": "light"
     },
     "output_type": "display_data"
    },
    {
     "data": {
      "image/png": "[encoded data removed]",
      "text/plain": [
       "<Figure size 432x288 with 1 Axes>"
      ]
     },
     "metadata": {
      "needs_background": "light"
     },
     "output_type": "display_data"
    },
    {
     "data": {
      "image/png": "[encoded data removed]",
      "text/plain": [
       "<Figure size 432x288 with 1 Axes>"
      ]
     },
     "metadata": {
      "needs_background": "light"
     },
     "output_type": "display_data"
    },
    {
     "data": {
      "image/png": "[encoded data removed]",
      "text/plain": [
       "<Figure size 432x288 with 1 Axes>"
      ]
     },
     "metadata": {
      "needs_background": "light"
     },
     "output_type": "display_data"
    }
   ],
   "source": [
    "# Let's create a placeholder for all betas and alphas (empty dictionaries)\n",
    "beta = {}\n",
    "alpha = {}\n",
    "\n",
    "# Loop on every stock daily return\n",
    "for i in stocks_daily_return.columns:\n",
    "\n",
    "  # Ignoring the date and S&P500 Columns \n",
    "  if i != 'Date' and i != 'sp500':\n",
    "    # plot a scatter plot between each individual stock and the S&P500 (Market)\n",
    "    stocks_daily_return.plot(kind = 'scatter', x = 'sp500', y = i)\n",
    "    \n",
    "    # Fit a polynomial between each stock and the S&P500 (Poly with order = 1 is a straight line)\n",
    "    b, a = np.polyfit(stocks_daily_return['sp500'], stocks_daily_return[i], 1)\n",
    "    \n",
    "    plt.plot(stocks_daily_return['sp500'], b * stocks_daily_return['sp500'] + a, '-', color = 'r')\n",
    "    \n",
    "    beta[i] = b\n",
    "    \n",
    "    alpha[i] = a\n",
    "    \n",
    "    plt.show()"
   ]
  },
  {
   "cell_type": "code",
   "execution_count": 42,
   "metadata": {},
   "outputs": [
    {
     "data": {
      "text/plain": [
       "{'AAPL': 1.1128924148678123,\n",
       " 'BA': 1.3828672010892789,\n",
       " 'T': 0.7446293454747842,\n",
       " 'MGM': 1.6535677065180123,\n",
       " 'AMZN': 0.9917345712576859,\n",
       " 'IBM': 0.9604149148095267,\n",
       " 'TSLA': 1.2686150101095917,\n",
       " 'GOOG': 1.0348817687428558}"
      ]
     },
     "execution_count": 42,
     "metadata": {},
     "output_type": "execute_result"
    }
   ],
   "source": [
    "# Let's view Beta for every stock \n",
    "beta"
   ]
  },
  {
   "cell_type": "code",
   "execution_count": 43,
   "metadata": {},
   "outputs": [],
   "source": [
    "# Let's view alpha for each of the stocks\n",
    "# Alpha describes the strategy's ability to beat the market (S&P500)\n",
    "# Alpha indicates the “excess return” or “abnormal rate of return,” \n",
    "# A positive 0.175 alpha for Tesla means that the portfolio’s return exceeded the benchmark S&P500 index by 17%."
   ]
  },
  {
   "cell_type": "code",
   "execution_count": 44,
   "metadata": {},
   "outputs": [
    {
     "data": {
      "text/plain": [
       "{'AAPL': 0.05281208469440257,\n",
       " 'BA': -0.0022906983297534818,\n",
       " 'T': -0.02856343019846183,\n",
       " 'MGM': -0.016885305520478917,\n",
       " 'AMZN': 0.10221396417765179,\n",
       " 'IBM': -0.053454941504451174,\n",
       " 'TSLA': 0.1758349216516581,\n",
       " 'GOOG': 0.03335558721466991}"
      ]
     },
     "execution_count": 44,
     "metadata": {},
     "output_type": "execute_result"
    }
   ],
   "source": [
    "alpha"
   ]
  },
  {
   "cell_type": "markdown",
   "metadata": {},
   "source": [
    "TASK #7: APPLY CAPM FORMULA TO CALCULATE THE RETURN FOR THE PORTFOLIO"
   ]
  },
  {
   "cell_type": "code",
   "execution_count": 45,
   "metadata": {},
   "outputs": [
    {
     "data": {
      "text/plain": [
       "['AAPL', 'BA', 'T', 'MGM', 'AMZN', 'IBM', 'TSLA', 'GOOG']"
      ]
     },
     "execution_count": 45,
     "metadata": {},
     "output_type": "execute_result"
    }
   ],
   "source": [
    "# Obtain a list of all stock names\n",
    "keys = list(beta.keys())\n",
    "keys"
   ]
  },
  {
   "cell_type": "code",
   "execution_count": 46,
   "metadata": {},
   "outputs": [
    {
     "data": {
      "text/plain": [
       "12.427633663298055"
      ]
     },
     "execution_count": 46,
     "metadata": {},
     "output_type": "execute_result"
    }
   ],
   "source": [
    "# Define the expected return dictionary\n",
    "ER = {}\n",
    "\n",
    "rf = 0 # assume risk free rate is zero in this case\n",
    "rm = stocks_daily_return['sp500'].mean() * 252 # this is the expected return of the market \n",
    "rm"
   ]
  },
  {
   "cell_type": "code",
   "execution_count": 47,
   "metadata": {},
   "outputs": [],
   "source": [
    "for i in keys:\n",
    "  # Calculate return for every security using CAPM  \n",
    "  ER[i] = rf + ( beta[i] * (rm-rf) ) "
   ]
  },
  {
   "cell_type": "code",
   "execution_count": 48,
   "metadata": {},
   "outputs": [
    {
     "name": "stdout",
     "output_type": "stream",
     "text": [
      "Expected Return Based on CAPM for AAPL is 13.830619238640288%\n",
      "Expected Return Based on CAPM for BA is 17.185766980127884%\n",
      "Expected Return Based on CAPM for T is 9.253980720502025%\n",
      "Expected Return Based on CAPM for MGM is 20.549933694065807%\n",
      "Expected Return Based on CAPM for AMZN is 12.324913942818482%\n",
      "Expected Return Based on CAPM for IBM is 11.935684726020407%\n",
      "Expected Return Based on CAPM for TSLA is 15.765882605403164%\n",
      "Expected Return Based on CAPM for GOOG is 12.861131506762147%\n"
     ]
    }
   ],
   "source": [
    "for i in keys:\n",
    "  print('Expected Return Based on CAPM for {} is {}%'.format(i, ER[i]))"
   ]
  },
  {
   "cell_type": "code",
   "execution_count": 49,
   "metadata": {},
   "outputs": [
    {
     "data": {
      "text/plain": [
       "array([0.125, 0.125, 0.125, 0.125, 0.125, 0.125, 0.125, 0.125])"
      ]
     },
     "execution_count": 49,
     "metadata": {},
     "output_type": "execute_result"
    }
   ],
   "source": [
    "# Assume equal weights in the portfolio\n",
    "portfolio_weights = 1/8 * np.ones(8) \n",
    "portfolio_weights"
   ]
  },
  {
   "cell_type": "code",
   "execution_count": 50,
   "metadata": {},
   "outputs": [
    {
     "data": {
      "text/plain": [
       "14.213489176792526"
      ]
     },
     "execution_count": 50,
     "metadata": {},
     "output_type": "execute_result"
    }
   ],
   "source": [
    "# Calculate the portfolio return \n",
    "ER_portfolio = sum(list(ER.values()) * portfolio_weights)\n",
    "ER_portfolio"
   ]
  },
  {
   "cell_type": "code",
   "execution_count": 51,
   "metadata": {},
   "outputs": [
    {
     "name": "stdout",
     "output_type": "stream",
     "text": [
      "Expected Return Based on CAPM for the portfolio is 14.213489176792526%\n",
      "\n"
     ]
    }
   ],
   "source": [
    "print('Expected Return Based on CAPM for the portfolio is {}%\\n'.format(ER_portfolio))"
   ]
  },
  {
   "cell_type": "code",
   "execution_count": null,
   "metadata": {},
   "outputs": [],
   "source": []
  }
 ],
 "metadata": {
  "kernelspec": {
   "display_name": "Python 3",
   "language": "python",
   "name": "python3"
  },
  "language_info": {
   "codemirror_mode": {
    "name": "ipython",
    "version": 3
   },
   "file_extension": ".py",
   "mimetype": "text/x-python",
   "name": "python",
   "nbconvert_exporter": "python",
   "pygments_lexer": "ipython3",
   "version": "3.8.5"
  }
 },
 "nbformat": 4,
 "nbformat_minor": 4
}
