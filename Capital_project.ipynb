{
 "cells": [
  {
   "cell_type": "code",
   "execution_count": null,
   "metadata": {},
   "outputs": [],
   "source": [
    "# IMPORT LIBRARIES\n",
    "import pandas as pd\n",
    "import seaborn as sns\n",
    "import plotly.express as px\n",
    "from copy import copy\n",
    "from scipy import stats\n",
    "import matplotlib.pyplot as plt\n",
    "import numpy as np\n",
    "import plotly.figure_factory as ff\n",
    "import plotly.graph_objects as go\n",
    "import pandas_datareader as web"
   ]
  },
  {
   "cell_type": "code",
   "execution_count": null,
   "metadata": {},
   "outputs": [],
   "source": [
    "spy_etf=web.DataReader('SPY','yahoo')"
   ]
  },
  {
   "cell_type": "code",
   "execution_count": null,
   "metadata": {},
   "outputs": [],
   "source": [
    "start=pd.to_datetime('2010-01-01')\n",
    "end=pd.to_datetime('2019-12-31')"
   ]
  },
  {
   "cell_type": "code",
   "execution_count": null,
   "metadata": {},
   "outputs": [],
   "source": [
    "# READ THE STOCK DATA FILE\n",
    "aapl=web.DataReader('AAPL','yahoo', start, end)"
   ]
  },
  {
   "cell_type": "code",
   "execution_count": null,
   "metadata": {},
   "outputs": [],
   "source": [
    "aapl.head()"
   ]
  },
  {
   "cell_type": "code",
   "execution_count": null,
   "metadata": {},
   "outputs": [],
   "source": [
    "stock_df=pd.read_csv('stock.csv')"
   ]
  },
  {
   "cell_type": "code",
   "execution_count": null,
   "metadata": {},
   "outputs": [],
   "source": [
    "stock_df.head()"
   ]
  },
  {
   "cell_type": "code",
   "execution_count": null,
   "metadata": {},
   "outputs": [],
   "source": [
    "# SORT THE DATA BASED ON DATE\n",
    "stock_df=stock_df.sort_values(by=['Date'])\n",
    "stock_df"
   ]
  },
  {
   "cell_type": "code",
   "execution_count": null,
   "metadata": {},
   "outputs": [],
   "source": [
    "# Function to normalize the price based on the initial price\n",
    "def normalize(df):\n",
    "    x=df.copy()\n",
    "    for i in x.columns[1:]:\n",
    "        x[i]=x[i]/x[i][0]\n",
    "    return x"
   ]
  },
  {
   "cell_type": "code",
   "execution_count": null,
   "metadata": {},
   "outputs": [],
   "source": [
    "#  Function to calculate the daily returns \n",
    "def daily_return(df):\n",
    "\n",
    "  df_daily_return = df.copy()\n",
    "  \n",
    "  # Loop through each stock\n",
    "  for i in df.columns[1:]:\n",
    "    \n",
    "    # Loop through each row belonging to the stock\n",
    "    for j in range(1, len(df)):\n",
    "      \n",
    "      # Calculate the percentage of change from the previous day\n",
    "      df_daily_return[i][j] = ((df[i][j]- df[i][j-1])/df[i][j-1]) * 100\n",
    "    \n",
    "    # set the value of first row to zero, as previous value is not available\n",
    "    df_daily_return[i][0] = 0\n",
    "  return df_daily_return"
   ]
  },
  {
   "cell_type": "code",
   "execution_count": null,
   "metadata": {},
   "outputs": [],
   "source": [
    "# Get the daily returns \n",
    "stocks_daily_return = daily_return(stock_df)\n",
    "stocks_daily_return"
   ]
  },
  {
   "cell_type": "markdown",
   "metadata": {},
   "source": [
    "Which of the following has higher average daily return?\n",
    "S&P500 or Google\n",
    "S&P500 or Amazon"
   ]
  },
  {
   "cell_type": "markdown",
   "metadata": {},
   "source": [
    "# TASK #4: CALCULATE BETA FOR A SINGLE STOCK"
   ]
  },
  {
   "cell_type": "code",
   "execution_count": null,
   "metadata": {},
   "outputs": [],
   "source": [
    "# Select any stock, let's say Apple \n",
    "stocks_daily_return['AAPL']"
   ]
  },
  {
   "cell_type": "code",
   "execution_count": null,
   "metadata": {},
   "outputs": [],
   "source": [
    "# plot a scatter plot between the selected stock and the S&P500 (Market)\n",
    "stocks_daily_return.plot(kind = 'scatter', x = 'sp500', y = 'AAPL')"
   ]
  },
  {
   "cell_type": "code",
   "execution_count": null,
   "metadata": {},
   "outputs": [],
   "source": [
    "# Fit a polynomial between the selected stock and the S&P500 (Poly with order = 1 is a straight line)\n",
    "\n",
    "# beta represents the slope of the line regression line (market return vs. stock return). \n",
    "# Beta is a measure of the volatility or systematic risk of a security or portfolio compared to the entire market (S&P500) \n",
    "# Beta is used in the CAPM and describes the relationship between systematic risk and expected return for assets \n",
    "\n",
    "# Beta = 1.0, this indicates that its price activity is strongly correlated with the market. \n",
    "# Beta < 1, indicates that the security is theoretically less volatile than the market (Ex: Utility stocks). If the stock is included, this will make the portfolio less risky compared to the same portfolio without the stock.\n",
    "# Beta > 1, indicates that the security's price is more volatile than the market. For instance, Tesla stock beta is 1.26 indicating that it's 26% more volatile than the market. \n",
    "# Tech stocks generally have higher betas than S&P500 but they also have excess returns\n",
    "# MGM is 65% more volatile than the S&P500!"
   ]
  },
  {
   "cell_type": "code",
   "execution_count": null,
   "metadata": {},
   "outputs": [],
   "source": [
    "beta, alpha = np.polyfit(stocks_daily_return['sp500'], stocks_daily_return['AAPL'], 1)\n",
    "print('Beta for {} stock is = {} and alpha is = {}'.format('AAPL', beta, alpha)) "
   ]
  },
  {
   "cell_type": "code",
   "execution_count": null,
   "metadata": {},
   "outputs": [],
   "source": [
    "# Now let's plot the scatter plot and the straight line on one plot\n",
    "stocks_daily_return.plot(kind = 'scatter', x = 'sp500', y = 'AAPL')"
   ]
  },
  {
   "cell_type": "code",
   "execution_count": null,
   "metadata": {},
   "outputs": [],
   "source": [
    "# Straight line equation with alpha and beta parameters \n",
    "# Straight line equation is y = beta * rm + alpha\n",
    "plt.plot(stocks_daily_return['sp500'], beta * stocks_daily_return['sp500'] + alpha, '-', color = 'r')"
   ]
  },
  {
   "cell_type": "markdown",
   "metadata": {},
   "source": [
    "<!-- TASK #5: APPLY THE CAPM FORMULA TO AN INDIVIDUAL STOCK -->"
   ]
  },
  {
   "cell_type": "markdown",
   "metadata": {},
   "source": [
    "TASK #5: APPLY THE CAPM FORMULA TO AN INDIVIDUAL STOCK"
   ]
  },
  {
   "cell_type": "code",
   "execution_count": null,
   "metadata": {},
   "outputs": [],
   "source": [
    "beta"
   ]
  },
  {
   "cell_type": "code",
   "execution_count": null,
   "metadata": {},
   "outputs": [],
   "source": [
    "# Let's calculate the average daily rate of return for S&P500\n",
    "stocks_daily_return['sp500'].mean()"
   ]
  },
  {
   "cell_type": "code",
   "execution_count": null,
   "metadata": {},
   "outputs": [],
   "source": [
    "# Let's calculate the annualized rate of return for S&P500 \n",
    "# Note that out of 365 days/year, stock exchanges are closed for 104 days during weekend days (Saturday and Sunday) \n",
    "# Check your answers with: https://dqydj.com/sp-500-return-calculator/\n",
    "rm = stocks_daily_return['sp500'].mean() * 252\n",
    "rm"
   ]
  },
  {
   "cell_type": "code",
   "execution_count": null,
   "metadata": {},
   "outputs": [],
   "source": [
    "# Assume risk free rate is zero\n",
    "# Also you can use the yield of a 10-years U.S. Government bond as a risk free rate\n",
    "rf = 0 \n",
    "\n",
    "# Calculate return for any security (APPL) using CAPM  \n",
    "ER_AAPL = rf + ( beta * (rm-rf) ) "
   ]
  },
  {
   "cell_type": "code",
   "execution_count": null,
   "metadata": {},
   "outputs": [],
   "source": [
    "ER_AAPL"
   ]
  },
  {
   "cell_type": "markdown",
   "metadata": {},
   "source": [
    "TASK #6: CALCULATE BETA FOR ALL STOCKS"
   ]
  },
  {
   "cell_type": "code",
   "execution_count": null,
   "metadata": {},
   "outputs": [],
   "source": [
    "# Let's create a placeholder for all betas and alphas (empty dictionaries)\n",
    "beta = {}\n",
    "alpha = {}\n",
    "\n",
    "# Loop on every stock daily return\n",
    "for i in stocks_daily_return.columns:\n",
    "\n",
    "  # Ignoring the date and S&P500 Columns \n",
    "  if i != 'Date' and i != 'sp500':\n",
    "    # plot a scatter plot between each individual stock and the S&P500 (Market)\n",
    "    stocks_daily_return.plot(kind = 'scatter', x = 'sp500', y = i)\n",
    "    \n",
    "    # Fit a polynomial between each stock and the S&P500 (Poly with order = 1 is a straight line)\n",
    "    b, a = np.polyfit(stocks_daily_return['sp500'], stocks_daily_return[i], 1)\n",
    "    \n",
    "    plt.plot(stocks_daily_return['sp500'], b * stocks_daily_return['sp500'] + a, '-', color = 'r')\n",
    "    \n",
    "    beta[i] = b\n",
    "    \n",
    "    alpha[i] = a\n",
    "    \n",
    "    plt.show()"
   ]
  },
  {
   "cell_type": "code",
   "execution_count": null,
   "metadata": {},
   "outputs": [],
   "source": [
    "# Let's view Beta for every stock \n",
    "beta"
   ]
  },
  {
   "cell_type": "code",
   "execution_count": null,
   "metadata": {},
   "outputs": [],
   "source": [
    "# Let's view alpha for each of the stocks\n",
    "# Alpha describes the strategy's ability to beat the market (S&P500)\n",
    "# Alpha indicates the “excess return” or “abnormal rate of return,” \n",
    "# A positive 0.175 alpha for Tesla means that the portfolio’s return exceeded the benchmark S&P500 index by 17%."
   ]
  },
  {
   "cell_type": "code",
   "execution_count": null,
   "metadata": {},
   "outputs": [],
   "source": [
    "alpha"
   ]
  },
  {
   "cell_type": "markdown",
   "metadata": {},
   "source": [
    "TASK #7: APPLY CAPM FORMULA TO CALCULATE THE RETURN FOR THE PORTFOLIO"
   ]
  },
  {
   "cell_type": "code",
   "execution_count": null,
   "metadata": {},
   "outputs": [],
   "source": [
    "# Obtain a list of all stock names\n",
    "keys = list(beta.keys())\n",
    "keys"
   ]
  },
  {
   "cell_type": "code",
   "execution_count": null,
   "metadata": {},
   "outputs": [],
   "source": [
    "# Define the expected return dictionary\n",
    "ER = {}\n",
    "\n",
    "rf = 0 # assume risk free rate is zero in this case\n",
    "rm = stocks_daily_return['sp500'].mean() * 252 # this is the expected return of the market \n",
    "rm"
   ]
  },
  {
   "cell_type": "code",
   "execution_count": null,
   "metadata": {},
   "outputs": [],
   "source": [
    "for i in keys:\n",
    "  # Calculate return for every security using CAPM  \n",
    "  ER[i] = rf + ( beta[i] * (rm-rf) ) "
   ]
  },
  {
   "cell_type": "code",
   "execution_count": null,
   "metadata": {},
   "outputs": [],
   "source": [
    "for i in keys:\n",
    "  print('Expected Return Based on CAPM for {} is {}%'.format(i, ER[i]))"
   ]
  },
  {
   "cell_type": "code",
   "execution_count": null,
   "metadata": {},
   "outputs": [],
   "source": [
    "# Assume equal weights in the portfolio\n",
    "portfolio_weights = 1/8 * np.ones(8) \n",
    "portfolio_weights"
   ]
  },
  {
   "cell_type": "code",
   "execution_count": null,
   "metadata": {},
   "outputs": [],
   "source": [
    "# Calculate the portfolio return \n",
    "ER_portfolio = sum(list(ER.values()) * portfolio_weights)\n",
    "ER_portfolio"
   ]
  },
  {
   "cell_type": "code",
   "execution_count": null,
   "metadata": {},
   "outputs": [],
   "source": [
    "print('Expected Return Based on CAPM for the portfolio is {}%\\n'.format(ER_portfolio))"
   ]
  }
 ],
 "metadata": {
  "kernelspec": {
   "name": "Python 3.8.5 64-bit ('UWFinTech': conda)",
   "display_name": "Python 3.8.5 64-bit ('UWFinTech': conda)",
   "metadata": {
    "interpreter": {
     "hash": "9fd44a851b9145035dd80132b24dd6363586216d2fdf1d8f45d933d6f3baeb2e"
    }
   }
  },
  "language_info": {
   "codemirror_mode": {
    "name": "ipython",
    "version": 3
   },
   "file_extension": ".py",
   "mimetype": "text/x-python",
   "name": "python",
   "nbconvert_exporter": "python",
   "pygments_lexer": "ipython3",
   "version": "3.8.5-final"
  }
 },
 "nbformat": 4,
 "nbformat_minor": 4
}